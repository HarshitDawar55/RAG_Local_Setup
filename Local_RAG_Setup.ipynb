{
 "cells": [
  {
   "cell_type": "markdown",
   "id": "335e6ee1-c394-418a-a73b-38e2ceafb3ee",
   "metadata": {},
   "source": [
    "# GenAI with RAG by `Mr. Harshit Dawar!`"
   ]
  },
  {
   "cell_type": "code",
   "execution_count": 1,
   "id": "11642815-7101-4824-a501-35e996824f5a",
   "metadata": {},
   "outputs": [],
   "source": [
    "from langchain_community.embeddings.bedrock import BedrockEmbeddings\n",
    "from langchain.document_loaders import CSVLoader\n",
    "from langchain_text_splitters import RecursiveCharacterTextSplitter\n",
    "from langchain.vectorstores.chroma import Chroma\n",
    "from langchain.chains import RetrievalQAWithSourcesChain\n",
    "from langchain_community.llms import Bedrock"
   ]
  },
  {
   "cell_type": "code",
   "execution_count": 2,
   "id": "264e0bff-f277-4dbc-b150-3c685523eede",
   "metadata": {},
   "outputs": [],
   "source": [
    "def embedding_function():\n",
    "    embeddings = BedrockEmbeddings(\n",
    "        credentials_profile_name=\"default\", region_name=\"us-east-1\"\n",
    "    )\n",
    "    return embeddings"
   ]
  },
  {
   "cell_type": "code",
   "execution_count": 3,
   "id": "65243c3d-ddad-4d6e-804c-563b911e18db",
   "metadata": {},
   "outputs": [],
   "source": [
    "loader = CSVLoader(\"Meal Plan for AWS Bedrock.csv\")\n",
    "documents = loader.load()"
   ]
  },
  {
   "cell_type": "code",
   "execution_count": 8,
   "id": "9ca6c2a0-27ca-4aa3-a9db-03930635fdb8",
   "metadata": {},
   "outputs": [],
   "source": [
    "# documents"
   ]
  },
  {
   "cell_type": "code",
   "execution_count": 5,
   "id": "cb58b82a-0073-4015-9d4a-04b6f8aa35a1",
   "metadata": {},
   "outputs": [],
   "source": [
    "text_splitter = RecursiveCharacterTextSplitter(chunk_size = 500, chunk_overlap=50)\n",
    "spliteed_documents = text_splitter.split_documents(documents)"
   ]
  },
  {
   "cell_type": "code",
   "execution_count": 7,
   "id": "889e6793-bda9-447d-befe-ee0d7801690c",
   "metadata": {},
   "outputs": [],
   "source": [
    "# spliteed_documents"
   ]
  },
  {
   "cell_type": "code",
   "execution_count": 9,
   "id": "2eeaaca1-cd37-49b2-9556-834eb11972f5",
   "metadata": {},
   "outputs": [
    {
     "data": {
      "text/plain": [
       "['c41ca1a0-dbee-4359-9b63-5cc9e1446600',\n",
       " 'e09e3b29-e84d-4253-82f5-15d70c811753',\n",
       " '14852d61-2cf8-47dc-887d-a46d7f7f95e0',\n",
       " 'bcaff0e8-b19c-4c31-9e37-a5920a5254b2',\n",
       " 'b7ed825d-6243-454d-a1a3-4e5c55bb39f2',\n",
       " 'd4c3fa9c-b215-4b5d-a8be-627515fa580a',\n",
       " '690a3e79-0491-4031-9f14-177343da8d15']"
      ]
     },
     "execution_count": 9,
     "metadata": {},
     "output_type": "execute_result"
    }
   ],
   "source": [
    "vector_db = Chroma(persist_directory=\"vectors_directory\", embedding_function=embedding_function())\n",
    "vector_db.add_documents(documents)"
   ]
  },
  {
   "cell_type": "code",
   "execution_count": 10,
   "id": "b7bb8e90-6c6a-4898-ae9b-1ff03314a861",
   "metadata": {},
   "outputs": [],
   "source": [
    "vector_db.persist()"
   ]
  },
  {
   "cell_type": "code",
   "execution_count": 11,
   "id": "aed95260-5ffa-4175-977b-50d5c5b117f3",
   "metadata": {},
   "outputs": [
    {
     "name": "stderr",
     "output_type": "stream",
     "text": [
      "C:\\Users\\HarshitDawar\\AppData\\Roaming\\Python\\Python311\\site-packages\\langchain_core\\_api\\deprecation.py:119: LangChainDeprecationWarning: The class `Bedrock` was deprecated in LangChain 0.0.34 and will be removed in 0.3. An updated version of the class exists in the langchain-aws package and should be used instead. To use it run `pip install -U langchain-aws` and import as `from langchain_aws import BedrockLLM`.\n",
      "  warn_deprecated(\n"
     ]
    }
   ],
   "source": [
    "llm = Bedrock(\n",
    "    credentials_profile_name=\"default\", model_id=\"amazon.titan-text-express-v1\", region_name=\"us-east-1\", model_kwargs={\"temperature\": 0},\n",
    "    streaming=True\n",
    ")"
   ]
  },
  {
   "cell_type": "code",
   "execution_count": 12,
   "id": "26b98a06-be27-4674-9e57-9cbf49ff0bef",
   "metadata": {},
   "outputs": [],
   "source": [
    "retriever = vector_db.as_retriever()\n",
    "qa = RetrievalQAWithSourcesChain.from_chain_type(llm=llm, chain_type=\"stuff\", retriever=retriever)"
   ]
  },
  {
   "cell_type": "code",
   "execution_count": 14,
   "id": "a8cd1ef9-d550-4df3-b8be-07502a080070",
   "metadata": {},
   "outputs": [],
   "source": [
    "# qa.invoke(\"query\")"
   ]
  },
  {
   "cell_type": "code",
   "execution_count": 15,
   "id": "4c6ea993-7ab4-4ed3-a9f3-e787bfdb3c8c",
   "metadata": {},
   "outputs": [],
   "source": [
    "query = \"Tell me complete meal plan for Friday\"\n",
    "query1 = \"Tell me complete meal plan for Friday, and provide me the input for all the meals that is breakfast, lunch, and dinner, each in the new line.\""
   ]
  },
  {
   "cell_type": "code",
   "execution_count": 17,
   "id": "1148469d-e4e5-45d3-96fe-188d6e7e94fd",
   "metadata": {},
   "outputs": [
    {
     "name": "stdout",
     "output_type": "stream",
     "text": [
      "\n",
      "Masala Oats, Vegetable pasta with a tomato-based sauce, Lemony Tofu Stir-fry with a side of quinoa.\n",
      "\n"
     ]
    }
   ],
   "source": [
    "print(qa.invoke(query)[\"answer\"])"
   ]
  },
  {
   "cell_type": "code",
   "execution_count": 18,
   "id": "ca4ae6be-5251-48a1-9f58-4b730c70ebdd",
   "metadata": {},
   "outputs": [
    {
     "name": "stdout",
     "output_type": "stream",
     "text": [
      "\n",
      "\n",
      "Breakfast: Masala Oats\n",
      "Lunch: Vegetable pasta with a tomato-based sauce\n",
      "Dinner: Lemony Tofu Stir-fry with a side of quinoa\n",
      "\n",
      "Breakfast: Vegetable Poha\n",
      "Lunch: Dal Tadka with brown rice and a side of spinach raita\n",
      "Dinner: Stuffed bell peppers with a paneer and vegetable filling\n",
      "\n",
      "\n"
     ]
    }
   ],
   "source": [
    "print(qa.invoke(query1)[\"answer\"])"
   ]
  },
  {
   "cell_type": "code",
   "execution_count": 21,
   "id": "a2ab772c-bcf4-4fdf-b0a3-13502fc627c8",
   "metadata": {},
   "outputs": [],
   "source": [
    "query2 = \"what is in dinner on Sunday? Prefix the answer with a lot of '*'\""
   ]
  },
  {
   "cell_type": "code",
   "execution_count": 22,
   "id": "be1ffa45-f234-4adb-805d-021f415f4089",
   "metadata": {},
   "outputs": [
    {
     "name": "stdout",
     "output_type": "stream",
     "text": [
      " Stuffed bell peppers with a paneer and vegetable filling.\n",
      "\n"
     ]
    }
   ],
   "source": [
    "print(qa.invoke(query2)[\"answer\"])"
   ]
  },
  {
   "cell_type": "code",
   "execution_count": null,
   "id": "953cf639-4ecd-4afc-bbaa-1d2884ee96c8",
   "metadata": {},
   "outputs": [],
   "source": []
  }
 ],
 "metadata": {
  "kernelspec": {
   "display_name": "Python 3 (ipykernel)",
   "language": "python",
   "name": "python3"
  },
  "language_info": {
   "codemirror_mode": {
    "name": "ipython",
    "version": 3
   },
   "file_extension": ".py",
   "mimetype": "text/x-python",
   "name": "python",
   "nbconvert_exporter": "python",
   "pygments_lexer": "ipython3",
   "version": "3.11.7"
  }
 },
 "nbformat": 4,
 "nbformat_minor": 5
}
